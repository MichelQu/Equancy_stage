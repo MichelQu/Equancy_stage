{
 "cells": [
  {
   "cell_type": "code",
   "execution_count": 163,
   "id": "af745b70",
   "metadata": {},
   "outputs": [],
   "source": [
    "import pandas as pd\n",
    "import numpy as np \n",
    "import matplotlib.pyplot as plt \n",
    "import seaborn as sns"
   ]
  },
  {
   "cell_type": "code",
   "execution_count": 164,
   "id": "d73264e4",
   "metadata": {},
   "outputs": [],
   "source": [
    "# On importe le fichier avec les données et on le convertit en tableau pandas \n",
    "filename = 'data.csv'\n",
    "df = pd.read_csv(filename)"
   ]
  },
  {
   "cell_type": "markdown",
   "id": "ba029a45",
   "metadata": {},
   "source": [
    "**Question 1**"
   ]
  },
  {
   "cell_type": "code",
   "execution_count": 3,
   "id": "c5ace619",
   "metadata": {},
   "outputs": [
    {
     "data": {
      "text/html": [
       "<div>\n",
       "<style scoped>\n",
       "    .dataframe tbody tr th:only-of-type {\n",
       "        vertical-align: middle;\n",
       "    }\n",
       "\n",
       "    .dataframe tbody tr th {\n",
       "        vertical-align: top;\n",
       "    }\n",
       "\n",
       "    .dataframe thead th {\n",
       "        text-align: right;\n",
       "    }\n",
       "</style>\n",
       "<table border=\"1\" class=\"dataframe\">\n",
       "  <thead>\n",
       "    <tr style=\"text-align: right;\">\n",
       "      <th></th>\n",
       "      <th>Entreprise</th>\n",
       "      <th>Metier</th>\n",
       "      <th>Technologies</th>\n",
       "      <th>Diplome</th>\n",
       "      <th>Experience</th>\n",
       "      <th>Ville</th>\n",
       "    </tr>\n",
       "  </thead>\n",
       "  <tbody>\n",
       "    <tr>\n",
       "      <th>0</th>\n",
       "      <td>Sanofi</td>\n",
       "      <td>Data scientist</td>\n",
       "      <td>Matlab/Python/Pyspark/Scikit-learn/Tensorflow</td>\n",
       "      <td>Master</td>\n",
       "      <td>1</td>\n",
       "      <td>Paris</td>\n",
       "    </tr>\n",
       "    <tr>\n",
       "      <th>1</th>\n",
       "      <td>Massachusetts General Hospital(MGH)</td>\n",
       "      <td>Data architecte</td>\n",
       "      <td>Python/Java/Scala/MongoDB</td>\n",
       "      <td>Master</td>\n",
       "      <td>3</td>\n",
       "      <td>Marseille</td>\n",
       "    </tr>\n",
       "    <tr>\n",
       "      <th>2</th>\n",
       "      <td>Delve</td>\n",
       "      <td>Lead data scientist</td>\n",
       "      <td>SPSS/SQL/Teradata/R/Python/Tensorflow/scikit-l...</td>\n",
       "      <td>Master</td>\n",
       "      <td>3</td>\n",
       "      <td>Nantes</td>\n",
       "    </tr>\n",
       "    <tr>\n",
       "      <th>3</th>\n",
       "      <td>Ann &amp; Robert H. Lurie Children’s Hospital of C...</td>\n",
       "      <td>Data scientist</td>\n",
       "      <td>C/C++/Java/Python</td>\n",
       "      <td>Master</td>\n",
       "      <td>1,5</td>\n",
       "      <td>Marseille</td>\n",
       "    </tr>\n",
       "    <tr>\n",
       "      <th>4</th>\n",
       "      <td>Arm</td>\n",
       "      <td>Data scientist</td>\n",
       "      <td>Matlab/Python/C++/numpy/Tensorflow/scikit-learn</td>\n",
       "      <td>Phd</td>\n",
       "      <td>NaN</td>\n",
       "      <td>Bordeaux</td>\n",
       "    </tr>\n",
       "  </tbody>\n",
       "</table>\n",
       "</div>"
      ],
      "text/plain": [
       "                                          Entreprise               Metier  \\\n",
       "0                                             Sanofi       Data scientist   \n",
       "1                Massachusetts General Hospital(MGH)      Data architecte   \n",
       "2                                              Delve  Lead data scientist   \n",
       "3  Ann & Robert H. Lurie Children’s Hospital of C...       Data scientist   \n",
       "4                                                Arm       Data scientist   \n",
       "\n",
       "                                        Technologies Diplome Experience  \\\n",
       "0      Matlab/Python/Pyspark/Scikit-learn/Tensorflow  Master          1   \n",
       "1                          Python/Java/Scala/MongoDB  Master          3   \n",
       "2  SPSS/SQL/Teradata/R/Python/Tensorflow/scikit-l...  Master          3   \n",
       "3                                  C/C++/Java/Python  Master        1,5   \n",
       "4    Matlab/Python/C++/numpy/Tensorflow/scikit-learn     Phd        NaN   \n",
       "\n",
       "       Ville  \n",
       "0      Paris  \n",
       "1  Marseille  \n",
       "2     Nantes  \n",
       "3  Marseille  \n",
       "4   Bordeaux  "
      ]
     },
     "execution_count": 3,
     "metadata": {},
     "output_type": "execute_result"
    }
   ],
   "source": [
    "df.head() # On affiche les 5 premiers éléments "
   ]
  },
  {
   "cell_type": "code",
   "execution_count": 4,
   "id": "0ebb59ed",
   "metadata": {},
   "outputs": [
    {
     "data": {
      "text/plain": [
       "(9582, 6)"
      ]
     },
     "execution_count": 4,
     "metadata": {},
     "output_type": "execute_result"
    }
   ],
   "source": [
    "df.shape # On affiche la taille du tableau des observations"
   ]
  },
  {
   "cell_type": "code",
   "execution_count": 5,
   "id": "6e4c9c1e",
   "metadata": {},
   "outputs": [
    {
     "data": {
      "text/plain": [
       "Entreprise      17\n",
       "Metier          19\n",
       "Technologies     0\n",
       "Diplome          0\n",
       "Experience      94\n",
       "Ville            0\n",
       "dtype: int64"
      ]
     },
     "execution_count": 5,
     "metadata": {},
     "output_type": "execute_result"
    }
   ],
   "source": [
    "df.isnull().sum() # On affiche le nombre de valeurs manquantes par attribut"
   ]
  },
  {
   "cell_type": "markdown",
   "id": "65ba788b",
   "metadata": {},
   "source": [
    "Le tableau des observations a une taille de (9582,6). C'est à dire qu'il y a 9582 observations et chaque observation possède 6 attributs.\n",
    "De plus, on peut constater qu'il y a des éléments manquants pour certain attribut (94 valeurs manquantes pour l'Experience par exemple)"
   ]
  },
  {
   "cell_type": "markdown",
   "id": "3b3462ec",
   "metadata": {},
   "source": [
    "**Question 2**"
   ]
  },
  {
   "cell_type": "code",
   "execution_count": 6,
   "id": "c2dca2a6",
   "metadata": {},
   "outputs": [],
   "source": [
    "# On modifie éléments d'Expérience (de string en float) et on change le formalisme car les nombres en python sont avec des points et non des virgules.\n",
    "df['Experience'] = df['Experience'].str.replace(',','.').astype(float)"
   ]
  },
  {
   "cell_type": "code",
   "execution_count": 7,
   "id": "09648d0c",
   "metadata": {},
   "outputs": [
    {
     "name": "stdout",
     "output_type": "stream",
     "text": [
      "La médiane de l'expérience est 2.0 et la moyenne est 2.8141863406408096\n"
     ]
    }
   ],
   "source": [
    "# On calcule la médiane et la moyenne \n",
    "experience_mediane = df['Experience'].median()\n",
    "experience_mean = df['Experience'].mean()\n",
    "print(f'La médiane de l\\'expérience est {experience_mediane} et la moyenne est {experience_mean}')"
   ]
  },
  {
   "cell_type": "code",
   "execution_count": 8,
   "id": "194a2c0c",
   "metadata": {},
   "outputs": [],
   "source": [
    "mask = (df['Metier'] == 'Data scientist') & (df['Experience'].isna()) # Si data scientist et valeur manquante pour l'expérience\n",
    "df.loc[mask, 'Experience'] = experience_mediane # On modifie la valeur avec la médiane\n",
    "\n",
    "mask = (df['Metier'] == 'Data engineer') & (df['Experience'].isna()) # Si data engineer et valeur manquante pour l'expérience\n",
    "df.loc[mask, 'Experience'] = experience_mean # On modifie la valeur avec la moyenne"
   ]
  },
  {
   "cell_type": "code",
   "execution_count": 9,
   "id": "d3dc15ca",
   "metadata": {},
   "outputs": [
    {
     "data": {
      "text/plain": [
       "Entreprise      17\n",
       "Metier          19\n",
       "Technologies     0\n",
       "Diplome          0\n",
       "Experience      42\n",
       "Ville            0\n",
       "dtype: int64"
      ]
     },
     "execution_count": 9,
     "metadata": {},
     "output_type": "execute_result"
    }
   ],
   "source": [
    "df.isnull().sum() # On affiche le nombre de valeurs manquantes par attribut"
   ]
  },
  {
   "cell_type": "markdown",
   "id": "b3a65e51",
   "metadata": {},
   "source": [
    "On peut remarquer qu'on a reduit le nombre de valeurs manquantes pour l'expérience"
   ]
  },
  {
   "cell_type": "markdown",
   "id": "723cd0e9",
   "metadata": {},
   "source": [
    "**Question 3**\n"
   ]
  },
  {
   "cell_type": "code",
   "execution_count": 10,
   "id": "bc62be31",
   "metadata": {},
   "outputs": [
    {
     "name": "stdout",
     "output_type": "stream",
     "text": [
      "Les expériences moyennes sont pour data scientist 2.241267787839586, data enginner 2.9835039313220353 et pour les lead data scientist 3.965260545905707\n"
     ]
    }
   ],
   "source": [
    "# Pour chaque métier (data scientist, data engineer et lead data scientist), on calcule la moyenne\n",
    "mean_data_scientist = df.loc[ df['Metier'] == 'Data scientist', 'Experience'].mean()\n",
    "mean_data_engineer = df.loc[ df['Metier'] == 'Data engineer', 'Experience'].mean()\n",
    "mean_lead_data_scientist = df.loc[ df['Metier'] == 'Lead data scientist', 'Experience'].mean()\n",
    "print(f'Les expériences moyennes sont pour data scientist {mean_data_scientist}, data enginner {mean_data_engineer} et pour les lead data scientist {mean_lead_data_scientist}')"
   ]
  },
  {
   "cell_type": "markdown",
   "id": "38623c69",
   "metadata": {},
   "source": [
    "**Question 4**"
   ]
  },
  {
   "cell_type": "code",
   "execution_count": 11,
   "id": "622138a1",
   "metadata": {
    "scrolled": true
   },
   "outputs": [
    {
     "data": {
      "image/png": "[encoded data removed]",
      "text/plain": [
       "<Figure size 432x288 with 1 Axes>"
      ]
     },
     "metadata": {
      "needs_background": "light"
     },
     "output_type": "display_data"
    }
   ],
   "source": [
    "# On plot l'expérience moyenne en fonction des métiers\n",
    "X = ['Data scientist', 'Data enginner', 'Lead Data Scientist']\n",
    "Y = [mean_data_scientist,mean_data_engineer,mean_lead_data_scientist]\n",
    "\n",
    "# On réalise un bar plot pour mieux le voir\n",
    "plt.bar(X,Y)\n",
    "plt.xlabel('Metier')\n",
    "plt.ylabel('Experience moyenne')\n",
    "plt.title('Experience moyenne en fonction du métier')\n",
    "plt.show()"
   ]
  },
  {
   "cell_type": "markdown",
   "id": "18704038",
   "metadata": {},
   "source": [
    "**Question 5**"
   ]
  },
  {
   "cell_type": "code",
   "execution_count": 12,
   "id": "8b783318",
   "metadata": {},
   "outputs": [
    {
     "data": {
      "text/plain": [
       "count    9540.000000\n",
       "mean        2.811455\n",
       "std         2.709288\n",
       "min         0.000000\n",
       "25%         1.000000\n",
       "50%         2.000000\n",
       "75%         3.500000\n",
       "max        21.000000\n",
       "Name: Experience, dtype: float64"
      ]
     },
     "execution_count": 12,
     "metadata": {},
     "output_type": "execute_result"
    }
   ],
   "source": [
    "df['Experience'].describe()"
   ]
  },
  {
   "cell_type": "markdown",
   "id": "7c130df9",
   "metadata": {},
   "source": [
    "Grâce à ces valeurs pour le 1er, 2e et 3e quartiles, je vais pouvoir créer 4 catégories : débutant, confirmé, avancé, expert.\n"
   ]
  },
  {
   "cell_type": "code",
   "execution_count": 13,
   "id": "795f3ec7",
   "metadata": {},
   "outputs": [],
   "source": [
    "# On récupère les différents quartiles\n",
    "exp_quartile_25 = df['Experience'].quantile(0.25)\n",
    "exp_quartile_50 = df['Experience'].quantile(0.50)\n",
    "exp_quartile_75 = df['Experience'].quantile(0.75)"
   ]
  },
  {
   "cell_type": "code",
   "execution_count": 14,
   "id": "99481d08",
   "metadata": {},
   "outputs": [
    {
     "data": {
      "text/html": [
       "<div>\n",
       "<style scoped>\n",
       "    .dataframe tbody tr th:only-of-type {\n",
       "        vertical-align: middle;\n",
       "    }\n",
       "\n",
       "    .dataframe tbody tr th {\n",
       "        vertical-align: top;\n",
       "    }\n",
       "\n",
       "    .dataframe thead th {\n",
       "        text-align: right;\n",
       "    }\n",
       "</style>\n",
       "<table border=\"1\" class=\"dataframe\">\n",
       "  <thead>\n",
       "    <tr style=\"text-align: right;\">\n",
       "      <th></th>\n",
       "      <th>Entreprise</th>\n",
       "      <th>Metier</th>\n",
       "      <th>Technologies</th>\n",
       "      <th>Diplome</th>\n",
       "      <th>Experience</th>\n",
       "      <th>Ville</th>\n",
       "      <th>Exp_label</th>\n",
       "    </tr>\n",
       "  </thead>\n",
       "  <tbody>\n",
       "    <tr>\n",
       "      <th>0</th>\n",
       "      <td>Sanofi</td>\n",
       "      <td>Data scientist</td>\n",
       "      <td>Matlab/Python/Pyspark/Scikit-learn/Tensorflow</td>\n",
       "      <td>Master</td>\n",
       "      <td>1.0</td>\n",
       "      <td>Paris</td>\n",
       "      <td>débutant</td>\n",
       "    </tr>\n",
       "    <tr>\n",
       "      <th>1</th>\n",
       "      <td>Massachusetts General Hospital(MGH)</td>\n",
       "      <td>Data architecte</td>\n",
       "      <td>Python/Java/Scala/MongoDB</td>\n",
       "      <td>Master</td>\n",
       "      <td>3.0</td>\n",
       "      <td>Marseille</td>\n",
       "      <td>avancé</td>\n",
       "    </tr>\n",
       "    <tr>\n",
       "      <th>2</th>\n",
       "      <td>Delve</td>\n",
       "      <td>Lead data scientist</td>\n",
       "      <td>SPSS/SQL/Teradata/R/Python/Tensorflow/scikit-l...</td>\n",
       "      <td>Master</td>\n",
       "      <td>3.0</td>\n",
       "      <td>Nantes</td>\n",
       "      <td>avancé</td>\n",
       "    </tr>\n",
       "    <tr>\n",
       "      <th>3</th>\n",
       "      <td>Ann &amp; Robert H. Lurie Children’s Hospital of C...</td>\n",
       "      <td>Data scientist</td>\n",
       "      <td>C/C++/Java/Python</td>\n",
       "      <td>Master</td>\n",
       "      <td>1.5</td>\n",
       "      <td>Marseille</td>\n",
       "      <td>confirmé</td>\n",
       "    </tr>\n",
       "    <tr>\n",
       "      <th>4</th>\n",
       "      <td>Arm</td>\n",
       "      <td>Data scientist</td>\n",
       "      <td>Matlab/Python/C++/numpy/Tensorflow/scikit-learn</td>\n",
       "      <td>Phd</td>\n",
       "      <td>2.0</td>\n",
       "      <td>Bordeaux</td>\n",
       "      <td>confirmé</td>\n",
       "    </tr>\n",
       "  </tbody>\n",
       "</table>\n",
       "</div>"
      ],
      "text/plain": [
       "                                          Entreprise               Metier  \\\n",
       "0                                             Sanofi       Data scientist   \n",
       "1                Massachusetts General Hospital(MGH)      Data architecte   \n",
       "2                                              Delve  Lead data scientist   \n",
       "3  Ann & Robert H. Lurie Children’s Hospital of C...       Data scientist   \n",
       "4                                                Arm       Data scientist   \n",
       "\n",
       "                                        Technologies Diplome  Experience  \\\n",
       "0      Matlab/Python/Pyspark/Scikit-learn/Tensorflow  Master         1.0   \n",
       "1                          Python/Java/Scala/MongoDB  Master         3.0   \n",
       "2  SPSS/SQL/Teradata/R/Python/Tensorflow/scikit-l...  Master         3.0   \n",
       "3                                  C/C++/Java/Python  Master         1.5   \n",
       "4    Matlab/Python/C++/numpy/Tensorflow/scikit-learn     Phd         2.0   \n",
       "\n",
       "       Ville Exp_label  \n",
       "0      Paris  débutant  \n",
       "1  Marseille    avancé  \n",
       "2     Nantes    avancé  \n",
       "3  Marseille  confirmé  \n",
       "4   Bordeaux  confirmé  "
      ]
     },
     "execution_count": 14,
     "metadata": {},
     "output_type": "execute_result"
    }
   ],
   "source": [
    "# On associe les nouveaux labels pour chaque niveau d'expérience\n",
    "df['Exp_label'] = df['Experience']\n",
    "# On associe les nouvelles valeurs selon les critères (les quartiles)\n",
    "df.loc[df['Experience'] > exp_quartile_75, 'Exp_label'] = 'expert'\n",
    "df.loc[df['Experience'] <= exp_quartile_25, 'Exp_label'] = 'débutant'\n",
    "\n",
    "mask = (df['Experience'] > exp_quartile_50) & (df['Experience'] <= exp_quartile_75)\n",
    "df.loc[mask, 'Exp_label'] = 'avancé'\n",
    "\n",
    "mask = (df['Experience'] > exp_quartile_25) & (df['Experience'] <= exp_quartile_50)\n",
    "df.loc[mask, 'Exp_label'] = 'confirmé'\n",
    "\n",
    "df.head()"
   ]
  },
  {
   "cell_type": "markdown",
   "id": "99313f9a",
   "metadata": {},
   "source": [
    "**Question 6**"
   ]
  },
  {
   "cell_type": "code",
   "execution_count": 15,
   "id": "bbe1254f",
   "metadata": {
    "scrolled": true
   },
   "outputs": [
    {
     "data": {
      "text/html": [
       "<div>\n",
       "<style scoped>\n",
       "    .dataframe tbody tr th:only-of-type {\n",
       "        vertical-align: middle;\n",
       "    }\n",
       "\n",
       "    .dataframe tbody tr th {\n",
       "        vertical-align: top;\n",
       "    }\n",
       "\n",
       "    .dataframe thead th {\n",
       "        text-align: right;\n",
       "    }\n",
       "</style>\n",
       "<table border=\"1\" class=\"dataframe\">\n",
       "  <thead>\n",
       "    <tr style=\"text-align: right;\">\n",
       "      <th></th>\n",
       "      <th>0</th>\n",
       "      <th>1</th>\n",
       "      <th>2</th>\n",
       "      <th>3</th>\n",
       "      <th>4</th>\n",
       "      <th>5</th>\n",
       "      <th>6</th>\n",
       "    </tr>\n",
       "  </thead>\n",
       "  <tbody>\n",
       "    <tr>\n",
       "      <th>0</th>\n",
       "      <td>Matlab</td>\n",
       "      <td>Python</td>\n",
       "      <td>Pyspark</td>\n",
       "      <td>Scikit-learn</td>\n",
       "      <td>Tensorflow</td>\n",
       "      <td>None</td>\n",
       "      <td>None</td>\n",
       "    </tr>\n",
       "    <tr>\n",
       "      <th>1</th>\n",
       "      <td>Python</td>\n",
       "      <td>Java</td>\n",
       "      <td>Scala</td>\n",
       "      <td>MongoDB</td>\n",
       "      <td>None</td>\n",
       "      <td>None</td>\n",
       "      <td>None</td>\n",
       "    </tr>\n",
       "    <tr>\n",
       "      <th>2</th>\n",
       "      <td>SPSS</td>\n",
       "      <td>SQL</td>\n",
       "      <td>Teradata</td>\n",
       "      <td>R</td>\n",
       "      <td>Python</td>\n",
       "      <td>Tensorflow</td>\n",
       "      <td>scikit-learn</td>\n",
       "    </tr>\n",
       "    <tr>\n",
       "      <th>3</th>\n",
       "      <td>C</td>\n",
       "      <td>C++</td>\n",
       "      <td>Java</td>\n",
       "      <td>Python</td>\n",
       "      <td>None</td>\n",
       "      <td>None</td>\n",
       "      <td>None</td>\n",
       "    </tr>\n",
       "    <tr>\n",
       "      <th>4</th>\n",
       "      <td>Matlab</td>\n",
       "      <td>Python</td>\n",
       "      <td>C++</td>\n",
       "      <td>numpy</td>\n",
       "      <td>Tensorflow</td>\n",
       "      <td>scikit-learn</td>\n",
       "      <td>None</td>\n",
       "    </tr>\n",
       "    <tr>\n",
       "      <th>...</th>\n",
       "      <td>...</td>\n",
       "      <td>...</td>\n",
       "      <td>...</td>\n",
       "      <td>...</td>\n",
       "      <td>...</td>\n",
       "      <td>...</td>\n",
       "      <td>...</td>\n",
       "    </tr>\n",
       "    <tr>\n",
       "      <th>9577</th>\n",
       "      <td>C++</td>\n",
       "      <td>R</td>\n",
       "      <td>Python</td>\n",
       "      <td>Matlab</td>\n",
       "      <td>Matplotlib</td>\n",
       "      <td>None</td>\n",
       "      <td>None</td>\n",
       "    </tr>\n",
       "    <tr>\n",
       "      <th>9578</th>\n",
       "      <td>Excel</td>\n",
       "      <td>Python</td>\n",
       "      <td>Matlab</td>\n",
       "      <td>R</td>\n",
       "      <td>machine learning</td>\n",
       "      <td>anglais</td>\n",
       "      <td>None</td>\n",
       "    </tr>\n",
       "    <tr>\n",
       "      <th>9579</th>\n",
       "      <td>R</td>\n",
       "      <td>machine learning</td>\n",
       "      <td>Excel</td>\n",
       "      <td>VBA</td>\n",
       "      <td>None</td>\n",
       "      <td>None</td>\n",
       "      <td>None</td>\n",
       "    </tr>\n",
       "    <tr>\n",
       "      <th>9580</th>\n",
       "      <td>Python</td>\n",
       "      <td>Pyspark</td>\n",
       "      <td>machine learning</td>\n",
       "      <td>Microsoft Azure</td>\n",
       "      <td>None</td>\n",
       "      <td>None</td>\n",
       "      <td>None</td>\n",
       "    </tr>\n",
       "    <tr>\n",
       "      <th>9581</th>\n",
       "      <td>VBA</td>\n",
       "      <td>Python</td>\n",
       "      <td>Excel</td>\n",
       "      <td>R</td>\n",
       "      <td>None</td>\n",
       "      <td>None</td>\n",
       "      <td>None</td>\n",
       "    </tr>\n",
       "  </tbody>\n",
       "</table>\n",
       "<p>9582 rows × 7 columns</p>\n",
       "</div>"
      ],
      "text/plain": [
       "           0                 1                 2                3  \\\n",
       "0     Matlab            Python           Pyspark     Scikit-learn   \n",
       "1     Python              Java             Scala          MongoDB   \n",
       "2       SPSS               SQL          Teradata                R   \n",
       "3          C               C++              Java           Python   \n",
       "4     Matlab            Python               C++            numpy   \n",
       "...      ...               ...               ...              ...   \n",
       "9577     C++                 R            Python           Matlab   \n",
       "9578   Excel            Python            Matlab                R   \n",
       "9579       R  machine learning             Excel              VBA   \n",
       "9580  Python           Pyspark  machine learning  Microsoft Azure   \n",
       "9581     VBA            Python             Excel                R   \n",
       "\n",
       "                     4             5             6  \n",
       "0           Tensorflow          None          None  \n",
       "1                 None          None          None  \n",
       "2               Python    Tensorflow  scikit-learn  \n",
       "3                 None          None          None  \n",
       "4           Tensorflow  scikit-learn          None  \n",
       "...                ...           ...           ...  \n",
       "9577        Matplotlib          None          None  \n",
       "9578  machine learning       anglais          None  \n",
       "9579              None          None          None  \n",
       "9580              None          None          None  \n",
       "9581              None          None          None  \n",
       "\n",
       "[9582 rows x 7 columns]"
      ]
     },
     "execution_count": 15,
     "metadata": {},
     "output_type": "execute_result"
    }
   ],
   "source": [
    "# On sépare les technologies par chaque élément présent\n",
    "tech_values = df['Technologies'].str.split('/',expand=True)\n",
    "tech_values"
   ]
  },
  {
   "cell_type": "code",
   "execution_count": 166,
   "id": "b1d30473",
   "metadata": {
    "scrolled": true
   },
   "outputs": [
    {
     "name": "stdout",
     "output_type": "stream",
     "text": [
      "Python     6627\n",
      "R          4374\n",
      "SQL        2581\n",
      "Java       1719\n",
      "Hadoop     1589\n",
      "           ... \n",
      "MySQL        94\n",
      "ORACLE       94\n",
      "Windows      75\n",
      "Perl         74\n",
      "Ruby         35\n",
      "Length: 61, dtype: int64\n"
     ]
    },
    {
     "data": {
      "text/plain": [
       "<AxesSubplot:title={'center':'Technologies les plus utilisées'}, xlabel='Technologies', ylabel='Fréquence'>"
      ]
     },
     "execution_count": 166,
     "metadata": {},
     "output_type": "execute_result"
    },
    {
     "data": {
      "image/png": "[encoded data removed]",
      "text/plain": [
       "<Figure size 432x288 with 1 Axes>"
      ]
     },
     "metadata": {
      "needs_background": "light"
     },
     "output_type": "display_data"
    }
   ],
   "source": [
    "tech_data = tech_values.stack().reset_index(drop=True) # On rassemble toutes les données sur une même colonne.\n",
    "counter = tech_data.value_counts() # Pour chaque élément unique, on compte la redondance.\n",
    "\n",
    "print(counter) # On affiche ce compteur\n",
    "\n",
    "# On plot en bar les 5 technologies les plus utilisées et la fréquence associée.\n",
    "X = counter[:5]\n",
    "X.plot.bar(X, title = 'Technologies les plus utilisées', xlabel = 'Technologies', ylabel = 'Fréquence')"
   ]
  },
  {
   "cell_type": "markdown",
   "id": "ed95e9bb",
   "metadata": {},
   "source": [
    "**Question 7**"
   ]
  },
  {
   "cell_type": "code",
   "execution_count": 149,
   "id": "d9a42e4d",
   "metadata": {},
   "outputs": [
    {
     "data": {
      "text/html": [
       "<div>\n",
       "<style scoped>\n",
       "    .dataframe tbody tr th:only-of-type {\n",
       "        vertical-align: middle;\n",
       "    }\n",
       "\n",
       "    .dataframe tbody tr th {\n",
       "        vertical-align: top;\n",
       "    }\n",
       "\n",
       "    .dataframe thead th {\n",
       "        text-align: right;\n",
       "    }\n",
       "</style>\n",
       "<table border=\"1\" class=\"dataframe\">\n",
       "  <thead>\n",
       "    <tr style=\"text-align: right;\">\n",
       "      <th></th>\n",
       "      <th>Diplome_Bachelor</th>\n",
       "      <th>Diplome_Master</th>\n",
       "      <th>Diplome_No diploma</th>\n",
       "      <th>Diplome_Phd</th>\n",
       "      <th>Exp_avancé</th>\n",
       "      <th>Exp_confirmé</th>\n",
       "      <th>Exp_débutant</th>\n",
       "      <th>Exp_expert</th>\n",
       "      <th>Tech_Python</th>\n",
       "      <th>Tech_R</th>\n",
       "      <th>Tech_SQL</th>\n",
       "      <th>Tech_Java</th>\n",
       "      <th>Tech_Hadoop</th>\n",
       "      <th>Metier_Data architecte</th>\n",
       "      <th>Metier_Data engineer</th>\n",
       "      <th>Metier_Data scientist</th>\n",
       "      <th>Metier_Lead data scientist</th>\n",
       "    </tr>\n",
       "  </thead>\n",
       "  <tbody>\n",
       "    <tr>\n",
       "      <th>0</th>\n",
       "      <td>0</td>\n",
       "      <td>1</td>\n",
       "      <td>0</td>\n",
       "      <td>0</td>\n",
       "      <td>0</td>\n",
       "      <td>0</td>\n",
       "      <td>1</td>\n",
       "      <td>0</td>\n",
       "      <td>1</td>\n",
       "      <td>0</td>\n",
       "      <td>0</td>\n",
       "      <td>0</td>\n",
       "      <td>0</td>\n",
       "      <td>0</td>\n",
       "      <td>0</td>\n",
       "      <td>1</td>\n",
       "      <td>0</td>\n",
       "    </tr>\n",
       "    <tr>\n",
       "      <th>1</th>\n",
       "      <td>0</td>\n",
       "      <td>1</td>\n",
       "      <td>0</td>\n",
       "      <td>0</td>\n",
       "      <td>1</td>\n",
       "      <td>0</td>\n",
       "      <td>0</td>\n",
       "      <td>0</td>\n",
       "      <td>1</td>\n",
       "      <td>0</td>\n",
       "      <td>0</td>\n",
       "      <td>1</td>\n",
       "      <td>0</td>\n",
       "      <td>1</td>\n",
       "      <td>0</td>\n",
       "      <td>0</td>\n",
       "      <td>0</td>\n",
       "    </tr>\n",
       "    <tr>\n",
       "      <th>2</th>\n",
       "      <td>0</td>\n",
       "      <td>1</td>\n",
       "      <td>0</td>\n",
       "      <td>0</td>\n",
       "      <td>1</td>\n",
       "      <td>0</td>\n",
       "      <td>0</td>\n",
       "      <td>0</td>\n",
       "      <td>1</td>\n",
       "      <td>1</td>\n",
       "      <td>1</td>\n",
       "      <td>0</td>\n",
       "      <td>0</td>\n",
       "      <td>0</td>\n",
       "      <td>0</td>\n",
       "      <td>0</td>\n",
       "      <td>1</td>\n",
       "    </tr>\n",
       "    <tr>\n",
       "      <th>3</th>\n",
       "      <td>0</td>\n",
       "      <td>1</td>\n",
       "      <td>0</td>\n",
       "      <td>0</td>\n",
       "      <td>0</td>\n",
       "      <td>1</td>\n",
       "      <td>0</td>\n",
       "      <td>0</td>\n",
       "      <td>1</td>\n",
       "      <td>0</td>\n",
       "      <td>0</td>\n",
       "      <td>1</td>\n",
       "      <td>0</td>\n",
       "      <td>0</td>\n",
       "      <td>0</td>\n",
       "      <td>1</td>\n",
       "      <td>0</td>\n",
       "    </tr>\n",
       "    <tr>\n",
       "      <th>4</th>\n",
       "      <td>0</td>\n",
       "      <td>0</td>\n",
       "      <td>0</td>\n",
       "      <td>1</td>\n",
       "      <td>0</td>\n",
       "      <td>1</td>\n",
       "      <td>0</td>\n",
       "      <td>0</td>\n",
       "      <td>1</td>\n",
       "      <td>0</td>\n",
       "      <td>0</td>\n",
       "      <td>0</td>\n",
       "      <td>0</td>\n",
       "      <td>0</td>\n",
       "      <td>0</td>\n",
       "      <td>1</td>\n",
       "      <td>0</td>\n",
       "    </tr>\n",
       "  </tbody>\n",
       "</table>\n",
       "</div>"
      ],
      "text/plain": [
       "   Diplome_Bachelor  Diplome_Master  Diplome_No diploma  Diplome_Phd  \\\n",
       "0                 0               1                   0            0   \n",
       "1                 0               1                   0            0   \n",
       "2                 0               1                   0            0   \n",
       "3                 0               1                   0            0   \n",
       "4                 0               0                   0            1   \n",
       "\n",
       "   Exp_avancé  Exp_confirmé  Exp_débutant  Exp_expert  Tech_Python  Tech_R  \\\n",
       "0           0             0             1           0            1       0   \n",
       "1           1             0             0           0            1       0   \n",
       "2           1             0             0           0            1       1   \n",
       "3           0             1             0           0            1       0   \n",
       "4           0             1             0           0            1       0   \n",
       "\n",
       "   Tech_SQL  Tech_Java  Tech_Hadoop  Metier_Data architecte  \\\n",
       "0         0          0            0                       0   \n",
       "1         0          1            0                       1   \n",
       "2         1          0            0                       0   \n",
       "3         0          1            0                       0   \n",
       "4         0          0            0                       0   \n",
       "\n",
       "   Metier_Data engineer  Metier_Data scientist  Metier_Lead data scientist  \n",
       "0                     0                      1                           0  \n",
       "1                     0                      0                           0  \n",
       "2                     0                      0                           1  \n",
       "3                     0                      1                           0  \n",
       "4                     0                      1                           0  "
      ]
     },
     "execution_count": 149,
     "metadata": {},
     "output_type": "execute_result"
    }
   ],
   "source": [
    "# On transforme les données qui nous seront utiles pour qu'elles deviennent exploitables\n",
    "\n",
    "# On convertit une variable catégorielle en variables factices avec get_dummies \n",
    "a = pd.get_dummies(df.Diplome, prefix='Diplome')\n",
    "b = pd.get_dummies(df.Exp_label, prefix='Exp')\n",
    "new_df = pd.concat([a,b],axis = 1) # On fusionne les 2 listes \n",
    "\n",
    "# On ajoute également une valeur pour la présence des 5 premières technologies les plus utilisées (1 si oui, 0 si non)\n",
    "for tech in X.index : \n",
    "    tech_name = f'Tech_{tech}'\n",
    "    new_df[tech_name] = tech_values.isin([tech]).sum(axis=1)\n",
    "\n",
    "# On convertit une variable catégorielle en variables factices avec get_dummies  \n",
    "c = pd.get_dummies(df.Metier, prefix='Metier')\n",
    "new_df = pd.concat([new_df,c],axis = 1) # On le fusionne avec le tableau utile\n",
    "\n",
    "new_df.head() # On affiche le nouveau tableau"
   ]
  },
  {
   "cell_type": "code",
   "execution_count": 150,
   "id": "83ed8941",
   "metadata": {},
   "outputs": [],
   "source": [
    "# On sépare le tableau en 2 autres (le premier x_validation s'il manque le métier dans les informations, le second (new_df) sinon)\n",
    "mask = (new_df['Metier_Data architecte'] == 0) & (new_df['Metier_Data engineer'] == 0) & (new_df['Metier_Data scientist'] == 0) & (new_df['Metier_Lead data scientist'] == 0)\n",
    "x_validation = new_df.loc[mask]\n",
    "\n",
    "mask = ( (new_df['Metier_Data architecte'] == 1) + (new_df['Metier_Data engineer'] == 1) + (new_df['Metier_Data scientist'] == 1) + (new_df['Metier_Lead data scientist'] == 1) ) \n",
    "new_df = new_df.loc[mask]"
   ]
  },
  {
   "cell_type": "markdown",
   "id": "f02d9ca4",
   "metadata": {},
   "source": [
    "Je vais réaliser une méthode de clustering non supervisée. Je vais utiliser la méthode de clustering KMeans avec 4 clusters (qui correspond aux nombres d'expérience différent, aux nombres de différents métiers et aux nombres de différents diplômes)."
   ]
  },
  {
   "cell_type": "code",
   "execution_count": 174,
   "id": "a5bf452f",
   "metadata": {},
   "outputs": [
    {
     "name": "stdout",
     "output_type": "stream",
     "text": [
      "Number of cluster 4 - Le score : -109138.28497576722\n"
     ]
    }
   ],
   "source": [
    "from sklearn.decomposition import PCA \n",
    "from sklearn.cluster import KMeans\n",
    "\n",
    "# On normalise les données \n",
    "new_df_Q7 = (new_df - new_df.mean()) / new_df.std()\n",
    "data = new_df_Q7.values\n",
    "\n",
    "clusters = 4\n",
    "clustering = KMeans(n_clusters=clusters, random_state=0).fit(data)\n",
    "\n",
    "print(f'Number of cluster {clusters} - Le score : {clustering.score(data)}')"
   ]
  },
  {
   "cell_type": "markdown",
   "id": "491780a1",
   "metadata": {},
   "source": [
    "Le score représente la somme des distances de chaque observation avec les centroïdes.\n",
    "\n",
    "Je vais représenter en 3D les observations et les clusters associés. Pour cela, je réalise une décomposition PCA à 3 composants puis on affiche les nouvelles données en 3D"
   ]
  },
  {
   "cell_type": "code",
   "execution_count": 180,
   "id": "0ddc384d",
   "metadata": {},
   "outputs": [
    {
     "name": "stdout",
     "output_type": "stream",
     "text": [
      "La variance expliquée avec le model est de : 0.3913412983645244\n"
     ]
    },
    {
     "data": {
      "image/png": "[encoded data removed]",
      "text/plain": [
       "<Figure size 864x864 with 1 Axes>"
      ]
     },
     "metadata": {
      "needs_background": "light"
     },
     "output_type": "display_data"
    }
   ],
   "source": [
    "# On initialise le model\n",
    "model_pca = PCA(n_components=3).fit(data)\n",
    "data_pca = model_pca.transform(data)\n",
    "\n",
    "print(f'La variance expliquée avec le model est de : {model_pca.explained_variance_ratio_.cumsum()[-1]}')\n",
    "\n",
    "# On plot les données \n",
    "fig = plt.figure(figsize=(12,12))\n",
    "ax = fig.add_subplot(111, projection='3d')\n",
    "x = data_pca[:,0]\n",
    "y = data_pca[:,1]\n",
    "z = data_pca[:,2]\n",
    "ax.scatter(x,y,z,c=clustering.labels_)\n",
    "plt.show()"
   ]
  },
  {
   "cell_type": "markdown",
   "id": "66f968ff",
   "metadata": {},
   "source": [
    "**Question 8**"
   ]
  },
  {
   "cell_type": "code",
   "execution_count": 181,
   "id": "50506ec8",
   "metadata": {},
   "outputs": [],
   "source": [
    "from sklearn.tree import DecisionTreeClassifier\n",
    "from sklearn.model_selection import train_test_split\n",
    "\n",
    "# On divise les données entre les attributs à prédire (y) et en valeur d'entrée (x)\n",
    "x = new_df.iloc[:,:-4]\n",
    "y = new_df.iloc[:,-4:]\n",
    "\n",
    "# On divise le data set en training set et testing set\n",
    "X_train, X_test, y_train, y_test = train_test_split(x, y, test_size=0.20)\n",
    "\n",
    "clf = DecisionTreeClassifier().fit(X_train,y_train) # On entraîne l'arbre de décision avec le training set\n",
    "y_predict = clf.predict(X_test) # On prédit avec le model les valeurs de y_test "
   ]
  },
  {
   "cell_type": "code",
   "execution_count": 184,
   "id": "cc83e86c",
   "metadata": {
    "scrolled": true
   },
   "outputs": [
    {
     "data": {
      "image/png": "[encoded data removed]",
      "text/plain": [
       "<Figure size 432x288 with 2 Axes>"
      ]
     },
     "metadata": {
      "needs_background": "light"
     },
     "output_type": "display_data"
    },
    {
     "data": {
      "image/png": "[encoded data removed]",
      "text/plain": [
       "<Figure size 432x288 with 2 Axes>"
      ]
     },
     "metadata": {
      "needs_background": "light"
     },
     "output_type": "display_data"
    },
    {
     "data": {
      "image/png": "[encoded data removed]",
      "text/plain": [
       "<Figure size 432x288 with 2 Axes>"
      ]
     },
     "metadata": {
      "needs_background": "light"
     },
     "output_type": "display_data"
    },
    {
     "data": {
      "image/png": "[encoded data removed]",
      "text/plain": [
       "<Figure size 432x288 with 2 Axes>"
      ]
     },
     "metadata": {
      "needs_background": "light"
     },
     "output_type": "display_data"
    }
   ],
   "source": [
    "from sklearn.metrics import multilabel_confusion_matrix\n",
    "\n",
    "confusion_matrix = multilabel_confusion_matrix(y_test, y_predict) # On calcule la matrice de confusion pour multiclass\n",
    "\n",
    "acc_list = []\n",
    "# On affiche ces données \n",
    "for i, matrix in enumerate(confusion_matrix) : \n",
    "    acc_list.append( (matrix[0][0] + matrix[1][1])/np.sum(matrix) )\n",
    "    sns.heatmap(matrix/np.sum(matrix), annot=True,fmt='.2%')\n",
    "    plt.title(f'Confusion Matrix : {y.columns[i]}')\n",
    "    plt.show()\n"
   ]
  },
  {
   "cell_type": "code",
   "execution_count": 185,
   "id": "637c6db3",
   "metadata": {},
   "outputs": [
    {
     "data": {
      "text/plain": [
       "[0.8687924725561944,\n",
       " 0.8421327757449033,\n",
       " 0.8421327757449033,\n",
       " 0.8933612127548354]"
      ]
     },
     "execution_count": 185,
     "metadata": {},
     "output_type": "execute_result"
    }
   ],
   "source": [
    "acc_list"
   ]
  },
  {
   "cell_type": "markdown",
   "id": "edc22e4a",
   "metadata": {},
   "source": [
    "On peut remarquer que la performance de base de l'algorithme est de 86%."
   ]
  },
  {
   "cell_type": "code",
   "execution_count": 186,
   "id": "775bb435",
   "metadata": {},
   "outputs": [
    {
     "data": {
      "text/plain": [
       "array(['Data engineer', 'Data scientist', 'Data scientist',\n",
       "       'Data scientist', 'Data engineer', 'Data scientist',\n",
       "       'Data scientist', 'Lead data scientist', 'Data engineer',\n",
       "       'Data scientist', 'Data architecte', 'Data architecte',\n",
       "       'Data architecte', 'Data scientist', 'Data engineer',\n",
       "       'Data scientist', 'Data architecte', 'Data scientist',\n",
       "       'Lead data scientist'], dtype='<U19')"
      ]
     },
     "execution_count": 186,
     "metadata": {},
     "output_type": "execute_result"
    }
   ],
   "source": [
    "# Pour reconstruire les noms \n",
    "def reconstruction_label(label_list) : \n",
    "    metier = []\n",
    "    for y in label_list : \n",
    "        if (y[0] == 1) : \n",
    "            metier.append('Data architecte')\n",
    "        if (y[1] == 1) : \n",
    "            metier.append('Data engineer')\n",
    "        if (y[2] == 1) : \n",
    "            metier.append('Data scientist')\n",
    "        if (y[3] == 1) : \n",
    "            metier.append('Lead data scientist')\n",
    "    return(np.array(metier))\n",
    "\n",
    "y_validation = clf.predict(x_validation.values[:,:-4])\n",
    "reconstruction_label(y_validation)"
   ]
  },
  {
   "cell_type": "markdown",
   "id": "2fb41271",
   "metadata": {},
   "source": [
    "Voici la liste des métiers prédit avec notre modèle pour les observations qui n'ont des valeurs manquantes pour le métier."
   ]
  }
 ],
 "metadata": {
  "kernelspec": {
   "display_name": "Python 3 (ipykernel)",
   "language": "python",
   "name": "python3"
  },
  "language_info": {
   "codemirror_mode": {
    "name": "ipython",
    "version": 3
   },
   "file_extension": ".py",
   "mimetype": "text/x-python",
   "name": "python",
   "nbconvert_exporter": "python",
   "pygments_lexer": "ipython3",
   "version": "3.8.2"
  }
 },
 "nbformat": 4,
 "nbformat_minor": 5
}
